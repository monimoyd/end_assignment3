{
 "cells": [
  {
   "cell_type": "markdown",
   "metadata": {},
   "source": [
    "## Assignment3"
   ]
  },
  {
   "cell_type": "code",
   "execution_count": 1,
   "metadata": {},
   "outputs": [],
   "source": [
    "import random\n",
    "import math\n",
    "import time\n",
    "import itertools\n",
    "import collections\n",
    "import functools"
   ]
  },
  {
   "cell_type": "markdown",
   "metadata": {},
   "source": [
    "## Write a function using only list filter lambda that can tell whether a number is a Fibonacci number or not."
   ]
  },
  {
   "cell_type": "code",
   "execution_count": 2,
   "metadata": {},
   "outputs": [
    {
     "name": "stdout",
     "output_type": "stream",
     "text": [
      "[2, 3, 5, 8, 1]\n"
     ]
    }
   ],
   "source": [
    "fib_list = {}\n",
    "fib_list[0] = 1\n",
    "fib_list[1] = 1\n",
    "def populate_fibonacii_list(n: int)->int:\t\n",
    "    if n in fib_list:\n",
    "        return fib_list[n]\n",
    "    else:\n",
    "        fib = populate_fibonacii_list(n-1) + populate_fibonacii_list(n-2)\n",
    "        fib_list[n] = fib\n",
    "        return fib\n",
    "\n",
    "populate_fibonacii_list(50)\n",
    "\n",
    "def filter_fibonacci(vals: list)->list:\n",
    "    ''' \n",
    "    This method filters only those elements that are fibonacci numbers\n",
    "    ''' \n",
    "    \n",
    "    return list(filter(lambda x: x in fib_list.values(), vals))\n",
    "    \n",
    "print(filter_fibonacci([2, 3, 5, 8, 18, 26, 1]))\n"
   ]
  },
  {
   "cell_type": "markdown",
   "metadata": {},
   "source": [
    "##  Using list comprehension (and zip/lambda/etc if required) \n",
    "   write five different expressions that: \n",
    "\n",
    "   * add 2 iterables a and b such that a is even and b is odd\n",
    "   *   strips every vowel from a string provided (tsai>>t s)\n",
    "   * acts like a ReLU function for a 1D array\n",
    "   *  acts like a sigmoid function for a 1D array\n",
    "   *  takes a small character string and shifts all characters by 5 (handle boundary conditions) tsai>>yxfn\n"
   ]
  },
  {
   "cell_type": "code",
   "execution_count": 3,
   "metadata": {},
   "outputs": [
    {
     "name": "stdout",
     "output_type": "stream",
     "text": [
      "[(4, 1), (8, 3)]\n"
     ]
    }
   ],
   "source": [
    "def filter_even_odd(vals1: list, vals2: list )->list:\n",
    "    '''\n",
    "    add 2 iterables a and b such that a is even and b is odd\n",
    "    '''\n",
    "    return [(a, b) for (a, b) in zip(vals1, vals2) if a % 2==0 and b % 2 == 1]\n",
    "\n",
    "print(filter_even_odd([4, 3, 8, 10 , 12], [1, 5, 3, 4, 8 ] ))\n",
    "\n"
   ]
  },
  {
   "cell_type": "code",
   "execution_count": 5,
   "metadata": {},
   "outputs": [
    {
     "name": "stdout",
     "output_type": "stream",
     "text": [
      " m gng t schl\n"
     ]
    }
   ],
   "source": [
    "def remove_vowels(input:str )->str:\n",
    "    '''\n",
    "    strips every vowel from a string provided\n",
    "    '''\n",
    "    return \"\".join([s for s in input if s not in ['a','e','i','o','u','A','E','I','O','U']])\n",
    "\n",
    "print(remove_vowels(\"i am going to school\"))"
   ]
  },
  {
   "cell_type": "code",
   "execution_count": 8,
   "metadata": {},
   "outputs": [
    {
     "name": "stdout",
     "output_type": "stream",
     "text": [
      "[0, 0, 0, 3.0, 5.0]\n"
     ]
    }
   ],
   "source": [
    "def relu(vals:list )->list:\n",
    "    ''' \n",
    "    The function acts as ReLU activation\n",
    "    '''\n",
    "    return [ 0 if val <=0.0 else val for val in vals]\n",
    "\n",
    "\n",
    "print(relu([-5.0, -3.0, -1.0, 3.0, 5.0]))\n"
   ]
  },
  {
   "cell_type": "code",
   "execution_count": 9,
   "metadata": {},
   "outputs": [
    {
     "name": "stdout",
     "output_type": "stream",
     "text": [
      "[0.0066928509242848554, 0.04742587317756678, 0.2689414213699951, 0.5, 0.9525741268224334, 0.9933071490757153]\n"
     ]
    }
   ],
   "source": [
    "def sigmoid(vals:list )->list:\n",
    "    ''' \n",
    "    the function acts as sigmoid activation\n",
    "    '''\n",
    "    return [ 1 / (1 + math.exp(-x)) for  x in vals]\n",
    "\n",
    "print(sigmoid([-5.0, -3.0,  -1.0, 0.0, 3.0, 5.0]))\n",
    "    \n"
   ]
  },
  {
   "cell_type": "code",
   "execution_count": 10,
   "metadata": {},
   "outputs": [
    {
     "name": "stdout",
     "output_type": "stream",
     "text": [
      "yxfn\n"
     ]
    }
   ],
   "source": [
    "def shift_by_5input(input:str )->str:\n",
    "    '''\n",
    "    takes a small character string and shifts all characters by 5 (handle boundary conditions) \n",
    "    '''\n",
    "    return \"\".join([ str(chr(ord('a') + ((ord(s)-ord('a') +5)%26))) for s in input ])\n",
    "\n",
    "\n",
    "print(shift_by_5input(\"tsai\" ))"
   ]
  },
  {
   "cell_type": "markdown",
   "metadata": {},
   "source": [
    "## A list comprehension expression that takes a ~200 word paragraph (write your own paragraph to check), and checks whether it has any of the swear words mentioned "
   ]
  },
  {
   "cell_type": "code",
   "execution_count": 11,
   "metadata": {},
   "outputs": [
    {
     "data": {
      "text/plain": [
       "False"
      ]
     },
     "execution_count": 11,
     "metadata": {},
     "output_type": "execute_result"
    }
   ],
   "source": [
    "def check_swear_words(paragraph:str)->bool:\n",
    "    '''\n",
    "    This function finds if there is any swear words in the paragraph\n",
    "    '''\n",
    "    swear_words = []\n",
    "    lines = []\n",
    "    with open('list.txt') as file:\n",
    "        lines = file.readlines()\n",
    "    for line in lines:\n",
    "        swear_words.append(line.strip().lower())\n",
    "    return any([ word== swear_word for swear_word in swear_words for word in paragraph.split()] )\n",
    "\n",
    "check_swear_words('Your skills of writing Paragraph will make you a perfect man. If you look at any printed prose book, you will see that each chapter is divided up into sections, the first line of each being indented slightly to the right. These sections are called Paragraph. Chapters, essays and other prose compositions are broken up into paragraphs, to make the reading of them easier')\n"
   ]
  },
  {
   "cell_type": "markdown",
   "metadata": {},
   "source": [
    "## Using reduce functions: \n",
    "\n",
    "    * add only even numbers in a list\n",
    "    * find the biggest character in a string (printable ascii characters)\n",
    "    * adds every 3rd number in a list\n"
   ]
  },
  {
   "cell_type": "code",
   "execution_count": 12,
   "metadata": {},
   "outputs": [
    {
     "data": {
      "text/plain": [
       "24"
      ]
     },
     "execution_count": 12,
     "metadata": {},
     "output_type": "execute_result"
    }
   ],
   "source": [
    "def add_even_numbers(vals:list)-> int:\n",
    "    '''\n",
    "    This method add all the even numbers by using reduce function\n",
    "    '''\n",
    "    return functools.reduce(lambda x,y:x+y, list(filter(lambda x: x%2 ==0, vals)))\n",
    "\n",
    "add_even_numbers([1,2,4,7,8,10])"
   ]
  },
  {
   "cell_type": "code",
   "execution_count": 13,
   "metadata": {},
   "outputs": [
    {
     "data": {
      "text/plain": [
       "'z'"
      ]
     },
     "execution_count": 13,
     "metadata": {},
     "output_type": "execute_result"
    }
   ],
   "source": [
    "def get_largest_character(input:str)-> str:\n",
    "    '''\n",
    "    This finds the largest character\n",
    "    '''\n",
    "    return functools.reduce(lambda x,y: x if ord(x)> ord(y) else y, input )\n",
    "\n",
    "get_largest_character('abefzxy')"
   ]
  },
  {
   "cell_type": "code",
   "execution_count": 27,
   "metadata": {},
   "outputs": [
    {
     "data": {
      "text/plain": [
       "[(2, 2), (5, 4), (8, 14)]"
      ]
     },
     "execution_count": 27,
     "metadata": {},
     "output_type": "execute_result"
    }
   ],
   "source": [
    "list(filter(lambda i: (i[0] +1) %3 ==0, enumerate([5, 7, 2, 8, 9, 4, 5, 6, 14])))"
   ]
  },
  {
   "cell_type": "code",
   "execution_count": 35,
   "metadata": {},
   "outputs": [
    {
     "data": {
      "text/plain": [
       "15"
      ]
     },
     "execution_count": 35,
     "metadata": {},
     "output_type": "execute_result"
    }
   ],
   "source": [
    "def add_every_third_number(lst:list)-> int:\n",
    "    '''\n",
    "    This function adds every third number\n",
    "    '''\n",
    "    return functools.reduce(lambda x,y:x+y, [element[0] for element in list(filter(lambda i: (i[0] +1) %3 ==0, enumerate(lst)))])\n",
    "\n",
    "add_every_third_number([5, 7, 2, 8, 9, 4, 5, 6, 14])"
   ]
  },
  {
   "cell_type": "markdown",
   "metadata": {},
   "source": [
    "## Using randint, random.choice and list comprehensions, write an expression that generates 15 random KADDAADDDD number plates, where KA is fixed, D stands for a digit, and A stands for Capital alphabets. 10<<DD<<99 & 1000<<DDDD<<9999"
   ]
  },
  {
   "cell_type": "code",
   "execution_count": 21,
   "metadata": {},
   "outputs": [
    {
     "name": "stdout",
     "output_type": "stream",
     "text": [
      "['KA40EU5208', 'KA62FO6560', 'KA91WI2917', 'KA11SD4938', 'KA10NG3223', 'KA83HJ1323', 'KA18IN6700', 'KA71LC6157', 'KA41AP1242', 'KA86AU5970', 'KA98MT6365', 'KA81RJ9412', 'KA35PF4051', 'KA83IH8691', 'KA70TA7943']\n"
     ]
    }
   ],
   "source": [
    "def generate_number_plates()->list:\n",
    "    '''\n",
    "    This method generates 15 random number plates for Karnataka\n",
    "    '''\n",
    "    return [\"KA\" + str(random.randint(10,99)) +  chr(random.randint(0,25) + ord('A')) + chr(random.randint(0,25) + ord('A')) + str(random.choice(range(1000,10000))) for i in range(15)]\n",
    "\n",
    "print(str(generate_number_plates()))\n"
   ]
  },
  {
   "cell_type": "markdown",
   "metadata": {},
   "source": [
    "## Write the above again from scratch where KA can be changed to DL, and 1000/9999 ranges can be provided."
   ]
  },
  {
   "cell_type": "code",
   "execution_count": 22,
   "metadata": {},
   "outputs": [
    {
     "data": {
      "text/plain": [
       "['DL38RJ3172',\n",
       " 'DL28SJ7087',\n",
       " 'DL21NH2887',\n",
       " 'DL66FX9806',\n",
       " 'DL12KE9313',\n",
       " 'DL27RM2743',\n",
       " 'DL14BO5545',\n",
       " 'DL36UB7722',\n",
       " 'DL97ZM2912',\n",
       " 'DL27DW2348',\n",
       " 'DL38NL9649',\n",
       " 'DL74UI6458',\n",
       " 'DL75UA8067',\n",
       " 'DL27OO2531',\n",
       " 'DL76ZS4427']"
      ]
     },
     "execution_count": 22,
     "metadata": {},
     "output_type": "execute_result"
    }
   ],
   "source": [
    "def generate_number_plate_parameters(state_code, start_num, end_num)->list:\n",
    "    if not isinstance(state_code, str):\n",
    "        raise ValueError(\"state_code must be String\")\n",
    "    if len(state_code) != 2:\n",
    "        raise ValueError(\"state_code must be two capital letters\")\n",
    "    if not (ord('A') <= ord(state_code[0]) <= ord('Z') and ord('A') <= ord(state_code[1]) <= ord('Z')):\n",
    "        raise ValueError(\"state_code must be A-Z\")\n",
    "    if not (isinstance(start_num, int) or isinstance(end_num, int)):\n",
    "        raise ValueError(\"state_num must be int\")\n",
    "    if start_num != 1000 or end_num != 9999:\n",
    "        raise ValueError(\"state_num must be 1000 and end_num must be 9999\")\t\n",
    "\n",
    "    return [state_code + str(random.randint(10,99)) +  chr(random.randint(0,25) + ord('A')) + chr(random.randint(0,25) + ord('A')) + str(random.choice(range(start_num,end_num+1))) for i in range(15)]\n",
    "\n",
    "def generate_number_plate_partial(state_code)->list:\n",
    "    return generate_number_plate_parameters(state_code, start_num=1000, end_num=9999)\n",
    "\n",
    "generate_number_plate_partial('DL')"
   ]
  },
  {
   "cell_type": "code",
   "execution_count": null,
   "metadata": {},
   "outputs": [],
   "source": []
  }
 ],
 "metadata": {
  "kernelspec": {
   "display_name": "Python 3",
   "language": "python",
   "name": "python3"
  },
  "language_info": {
   "codemirror_mode": {
    "name": "ipython",
    "version": 3
   },
   "file_extension": ".py",
   "mimetype": "text/x-python",
   "name": "python",
   "nbconvert_exporter": "python",
   "pygments_lexer": "ipython3",
   "version": "3.5.5"
  }
 },
 "nbformat": 4,
 "nbformat_minor": 2
}
